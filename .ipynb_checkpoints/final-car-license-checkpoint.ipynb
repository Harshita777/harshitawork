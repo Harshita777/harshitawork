{
 "cells": [
  {
   "cell_type": "code",
   "execution_count": null,
   "id": "27cc5463",
   "metadata": {},
   "outputs": [],
   "source": [
    "import cv2\n",
    "import easyocr\n",
    "\n",
    "\n",
    "reader = easyocr.Reader(['en'])\n",
    "video = cv2.VideoCapture('') # put 0 to open camera and bring numberplate of Car\n",
    "carModel = cv2.CascadeClassifier('haarcascade_russian_plate_number.xml')\n",
    "while True:\n",
    "    returnVal , actualFrame = video.read()\n",
    "    actualFrame = cv2.resize(actualFrame, (0,0), fx=0.5, fy=0.5)\n",
    "    car_detect = carModel.detectMultiScale(actualFrame, scaleFactor=1.1, minNeighbors=3)\n",
    "    if (len(car_detect) > 0):\n",
    "        maximum = 0\n",
    "        for i in car_detect:\n",
    "            convertedList = list(i)\n",
    "            area = convertedList[2] * convertedList[3]\n",
    "            if area > maximum:\n",
    "                maximum = area\n",
    "            store = i\n",
    "        (x,y,w,h) = store\n",
    "        frame = cv2.rectangle(actualFrame, (x,y), (x+w, y+h), (255,0,0), 2)\n",
    "        rect = actualFrame[y: y+h, x: x+w]\n",
    "        grayImage = cv2.cvtColor(rect, cv2.COLOR_BGR2GRAY)\n",
    "        result = reader.readtext(grayImage)\n",
    "        print(result)\n",
    "    cv2.imshow(\"this is Camera Windows\", actualFrame)\n",
    "    if cv2.waitKey(1) == 13:\n",
    "        break\n",
    "\n",
    "video.release()\n",
    "cv2.destroyAllWindows()"
   ]
  },
  {
   "cell_type": "code",
   "execution_count": null,
   "id": "1b342adf",
   "metadata": {},
   "outputs": [],
   "source": []
  },
  {
   "cell_type": "code",
   "execution_count": null,
   "id": "44273fc0",
   "metadata": {},
   "outputs": [],
   "source": []
  }
 ],
 "metadata": {
  "kernelspec": {
   "display_name": "Python 3",
   "language": "python",
   "name": "python3"
  },
  "language_info": {
   "codemirror_mode": {
    "name": "ipython",
    "version": 3
   },
   "file_extension": ".py",
   "mimetype": "text/x-python",
   "name": "python",
   "nbconvert_exporter": "python",
   "pygments_lexer": "ipython3",
   "version": "3.8.8"
  }
 },
 "nbformat": 4,
 "nbformat_minor": 5
}
